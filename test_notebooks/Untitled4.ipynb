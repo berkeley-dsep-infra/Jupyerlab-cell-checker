{
 "cells": [
  {
   "cell_type": "code",
   "execution_count": 2,
   "id": "442888fb-0299-4163-87e9-44d51abd6611",
   "metadata": {
    "execution": {
     "iopub.execute_input": "2024-11-08T18:29:42.910019Z",
     "iopub.status.busy": "2024-11-08T18:29:42.909650Z",
     "iopub.status.idle": "2024-11-08T18:29:42.915101Z",
     "shell.execute_reply": "2024-11-08T18:29:42.914190Z",
     "shell.execute_reply.started": "2024-11-08T18:29:42.909993Z"
    }
   },
   "outputs": [
    {
     "name": "stdout",
     "output_type": "stream",
     "text": [
      "Hello World\n"
     ]
    }
   ],
   "source": [
    "print(\"Hello World\")"
   ]
  },
  {
   "cell_type": "code",
   "execution_count": null,
   "id": "8b5b48e9-6b1b-4d4f-bb53-cba8e0e6fb81",
   "metadata": {},
   "outputs": [],
   "source": []
  }
 ],
 "metadata": {
  "kernelspec": {
   "display_name": "Python 3 (ipykernel)",
   "language": "python",
   "name": "python3"
  },
  "language_info": {
   "codemirror_mode": {
    "name": "ipython",
    "version": 3
   },
   "file_extension": ".py",
   "mimetype": "text/x-python",
   "name": "python",
   "nbconvert_exporter": "python",
   "pygments_lexer": "ipython3",
   "version": "3.9.7"
  }
 },
 "nbformat": 4,
 "nbformat_minor": 5
}
