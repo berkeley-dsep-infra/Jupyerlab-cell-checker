{
 "cells": [
  {
   "cell_type": "markdown",
   "id": "700545c8-00f4-4daa-b1e1-863f4d3f8137",
   "metadata": {},
   "source": [
    "## heading 2"
   ]
  },
  {
   "cell_type": "markdown",
   "id": "e9f6fdca-e340-4c49-a800-dd5eae87226f",
   "metadata": {},
   "source": [
    "#### heading 4\n",
    "\n",
    "Issue: Cannot decrease by more than 1 header level"
   ]
  },
  {
   "cell_type": "markdown",
   "id": "24285316-a748-42a6-a81d-3ffc0c362478",
   "metadata": {},
   "source": [
    "## heading 2\n",
    "\n",
    "paragraph\n",
    "paragraph\n",
    "paragraph"
   ]
  },
  {
   "cell_type": "markdown",
   "id": "c18a1534-b3d6-462e-a0c9-360f43c598ad",
   "metadata": {},
   "source": [
    "<h4>heading 4 (html)</h4>\n",
    "\n",
    "Issue: Cannot decrease by more than 1 header level"
   ]
  },
  {
   "cell_type": "markdown",
   "id": "cdf6e4be-056f-4ad4-8f6d-8806ffd7d316",
   "metadata": {},
   "source": [
    "### heading 3"
   ]
  },
  {
   "cell_type": "markdown",
   "id": "0d845711-31a3-4572-b541-69525b8856ab",
   "metadata": {},
   "source": [
    "### heading 3"
   ]
  },
  {
   "cell_type": "markdown",
   "id": "68808ec4-7b8c-43e3-aa2a-29f59cdef8bf",
   "metadata": {},
   "source": [
    "#### heading 4\n"
   ]
  },
  {
   "cell_type": "markdown",
   "id": "6bede770-eb45-4d88-aa3f-740aed1016f9",
   "metadata": {},
   "source": [
    "### heading 3"
   ]
  },
  {
   "cell_type": "markdown",
   "id": "70bcfbe7-fba0-41e6-8357-cd692547dafa",
   "metadata": {},
   "source": [
    "# heading 1\n",
    "\n",
    "Issue: heading cannot be a higher level than first heading"
   ]
  },
  {
   "cell_type": "code",
   "execution_count": null,
   "id": "81b2dd4c-de80-4567-a338-5919f277417a",
   "metadata": {},
   "outputs": [],
   "source": []
  },
  {
   "cell_type": "markdown",
   "id": "edd51a1e-992e-45a2-a74e-f9cdf028084f",
   "metadata": {},
   "source": [
    "##### heading 5"
   ]
  },
  {
   "cell_type": "markdown",
   "id": "05916d78-2d6d-4ce1-a30f-1643a7f0627d",
   "metadata": {
    "execution": {
     "iopub.execute_input": "2024-12-04T09:51:56.805397Z",
     "iopub.status.busy": "2024-12-04T09:51:56.804782Z",
     "iopub.status.idle": "2024-12-04T09:51:56.808915Z",
     "shell.execute_reply": "2024-12-04T09:51:56.807795Z",
     "shell.execute_reply.started": "2024-12-04T09:51:56.805369Z"
    }
   },
   "source": [
    "###### heading 6"
   ]
  },
  {
   "cell_type": "code",
   "execution_count": null,
   "id": "5d4eaa60-7e87-4a2c-9f4d-c584e592feec",
   "metadata": {},
   "outputs": [],
   "source": []
  }
 ],
 "metadata": {
  "kernelspec": {
   "display_name": "Python 3 (ipykernel)",
   "language": "python",
   "name": "python3"
  },
  "language_info": {
   "codemirror_mode": {
    "name": "ipython",
    "version": 3
   },
   "file_extension": ".py",
   "mimetype": "text/x-python",
   "name": "python",
   "nbconvert_exporter": "python",
   "pygments_lexer": "ipython3",
   "version": "3.9.20"
  }
 },
 "nbformat": 4,
 "nbformat_minor": 5
}
