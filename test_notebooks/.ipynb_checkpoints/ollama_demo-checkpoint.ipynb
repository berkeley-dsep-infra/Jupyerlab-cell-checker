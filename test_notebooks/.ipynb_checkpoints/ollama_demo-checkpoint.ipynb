{
 "cells": [
  {
   "cell_type": "code",
   "execution_count": null,
   "id": "ef3932f9-4c8d-4acf-9ea5-e40d2dc0d738",
   "metadata": {},
   "outputs": [],
   "source": [
    "!cd\n",
    "!curl -LO https://github.com/ollama/ollama/releases/download/v0.3.6/ollama-linux-amd64"
   ]
  },
  {
   "cell_type": "code",
   "execution_count": null,
   "id": "20107a5f-5844-458f-9e97-37ce82c15106",
   "metadata": {},
   "outputs": [],
   "source": [
    "import os\n",
    "os.system(\"mv ollama-linux-amd64 ollama\")"
   ]
  },
  {
   "cell_type": "code",
   "execution_count": null,
   "id": "0353f0eb-4d4f-44db-9229-4f50addf4422",
   "metadata": {},
   "outputs": [],
   "source": [
    "os.system(\"chmod +x ./ollama\")"
   ]
  },
  {
   "cell_type": "code",
   "execution_count": null,
   "id": "d49e217e-4d8a-4cf1-a11a-817d8d27338c",
   "metadata": {},
   "outputs": [],
   "source": [
    "os.environ[\"OLLAMA_ORIGINS\"] = \"*\""
   ]
  },
  {
   "cell_type": "code",
   "execution_count": null,
   "id": "0861d256-8409-4c34-86f9-7ec9790b4e14",
   "metadata": {},
   "outputs": [],
   "source": [
    "os.system(\"ollama serve&\")"
   ]
  },
  {
   "cell_type": "code",
   "execution_count": null,
   "id": "7bc01939-5d24-4509-93f9-35633c9d58df",
   "metadata": {},
   "outputs": [],
   "source": [
    "os.system(\"ollama run llava:13b\")"
   ]
  }
 ],
 "metadata": {
  "kernelspec": {
   "display_name": "Python 3 (ipykernel)",
   "language": "python",
   "name": "python3"
  },
  "language_info": {
   "codemirror_mode": {
    "name": "ipython",
    "version": 3
   },
   "file_extension": ".py",
   "mimetype": "text/x-python",
   "name": "python",
   "nbconvert_exporter": "python",
   "pygments_lexer": "ipython3",
   "version": "3.10.11"
  }
 },
 "nbformat": 4,
 "nbformat_minor": 5
}
