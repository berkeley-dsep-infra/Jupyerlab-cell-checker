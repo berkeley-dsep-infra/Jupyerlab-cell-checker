{
 "cells": [
  {
   "cell_type": "code",
   "execution_count": 1,
   "id": "62dc08f4-8905-4182-bcfc-0b6f59445fc8",
   "metadata": {},
   "outputs": [
    {
     "ename": "ModuleNotFoundError",
     "evalue": "No module named 'matplotlib'",
     "output_type": "error",
     "traceback": [
      "\u001b[0;31m---------------------------------------------------------------------------\u001b[0m",
      "\u001b[0;31mModuleNotFoundError\u001b[0m                       Traceback (most recent call last)",
      "Cell \u001b[0;32mIn[1], line 1\u001b[0m\n\u001b[0;32m----> 1\u001b[0m \u001b[38;5;28;01mimport\u001b[39;00m \u001b[38;5;21;01mmatplotlib\u001b[39;00m\u001b[38;5;21;01m.\u001b[39;00m\u001b[38;5;21;01mpyplot\u001b[39;00m \u001b[38;5;28;01mas\u001b[39;00m \u001b[38;5;21;01mplt\u001b[39;00m\n\u001b[1;32m      2\u001b[0m \u001b[38;5;28;01mimport\u001b[39;00m \u001b[38;5;21;01mnumpy\u001b[39;00m \u001b[38;5;28;01mas\u001b[39;00m \u001b[38;5;21;01mnp\u001b[39;00m\n\u001b[1;32m      4\u001b[0m \u001b[38;5;66;03m# Data\u001b[39;00m\n",
      "\u001b[0;31mModuleNotFoundError\u001b[0m: No module named 'matplotlib'"
     ]
    }
   ],
   "source": [
    "import matplotlib.pyplot as plt\n",
    "import numpy as np\n",
    "\n",
    "# Data\n",
    "x = np.linspace(0, 10, 100)\n",
    "y1 = np.sin(x)\n",
    "y2 = np.cos(x)\n",
    "\n",
    "# Create plot\n",
    "plt.figure(figsize=(8, 6))\n",
    "\n",
    "# Sine curve with poor color contrast and poor transparency\n",
    "plt.plot(x, y1, label='Sine', color='blue')\n",
    "plt.plot(x, y2, label='Cosine', color='red')\n",
    "\n",
    "# Cosine curve with poor color contrast\n",
    "\n",
    "# Unstructured header (just a plain text, no structure)\n",
    "# plt.text(0.25, 0.5, 'Graph Text', fontsize=30, color='black')\n",
    "plt.title(\"My Title\", fontsize=20, color=\"grey\")\n",
    "\n",
    "plt.xticks([])\n",
    "plt.yticks([])\n",
    "\n",
    "plt.show()"
   ]
  },
  {
   "cell_type": "markdown",
   "id": "0f2dee44-efdb-4790-b334-bd0d3eedda37",
   "metadata": {},
   "source": [
    "![fsad](img1.png)"
   ]
  },
  {
   "cell_type": "markdown",
   "id": "48774123-a7d8-496a-b8de-4d86c7fb50ce",
   "metadata": {},
   "source": [
    "![sdsd](graphIssues3.png)"
   ]
  }
 ],
 "metadata": {
  "kernelspec": {
   "display_name": "Python 3 (ipykernel)",
   "language": "python",
   "name": "python3"
  },
  "language_info": {
   "codemirror_mode": {
    "name": "ipython",
    "version": 3
   },
   "file_extension": ".py",
   "mimetype": "text/x-python",
   "name": "python",
   "nbconvert_exporter": "python",
   "pygments_lexer": "ipython3",
   "version": "3.10.11"
  }
 },
 "nbformat": 4,
 "nbformat_minor": 5
}
