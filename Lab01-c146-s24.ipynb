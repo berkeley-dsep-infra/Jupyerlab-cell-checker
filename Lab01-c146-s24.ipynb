{
 "cells": [
  {
   "cell_type": "markdown",
   "metadata": {
    "id": "LjiXZb2eo-v0"
   },
   "source": [
    "# [DS4Bio] Lab 1: Python Coding of Genetic Coding\n",
    "### Data Science for Biology\n",
    "**Notebook developed by:** *Sarp Dora Kurtoglu, Kinsey Long*<br>\n",
    "**Supervised by:** *Steven E. Brenner*\n",
    "\n",
    "### Learning Outcomes\n",
    "\n",
    "In this notebook, you will learn about:\n",
    "* String manipulation\n",
    "* Building for loops for counting\n",
    "* Building functions\n",
    "* Using dictionaries\n",
    "* Input validation\n",
    "\n",
    "In this assignment, we will explore ways to write Python code for transcription and translation.\n",
    "***"
   ]
  },
  {
   "cell_type": "markdown",
   "metadata": {
    "id": "Zc5oMGifOWfI"
   },
   "source": [
    "### Helpful Data Science Resources\n",
    "Here are some resources you can check out while doing this notebook.\n",
    "\n",
    "- [Reference Sheet for the datascience Module](http://data8.org/sp22/python-reference.html)<br>\n",
    "- [Documentation for the datascience Module](http://data8.org/datascience/index.html)\n",
    "- [Khan Academy Overview of Transcription](https://www.khanacademy.org/science/ap-biology/gene-expression-and-regulation/transcription-and-rna-processing/a/overview-of-transcription)\n",
    "- [Khan Academy Overview of Translation](https://www.khanacademy.org/science/ap-biology/gene-expression-and-regulation/translation/a/translation-overview)\n",
    "\n",
    "### Peer Consulting\n",
    "\n",
    "If you find yourself having trouble with any content in this notebook, Data Peer Consultants are an excellent resource. Click [here](https://dlab.berkeley.edu/training/frontdesk-info) to locate live help.\n",
    "\n",
    "Peer Consultants are there to answer all data-related questions, whether it be about the content of this notebook, applications of data science in the world, or other data science courses offered at Berkeley.\n",
    "\n",
    "---"
   ]
  },
  {
   "cell_type": "markdown",
   "metadata": {
    "id": "v2n9ftEiOkl2"
   },
   "source": [
    "To prepare our notebook environment, run the following cell which imports the necessary packages. It will print `All necessary packages have been imported.` below the cell when it's completed importing.\n",
    "\n",
    "This notebook includes the same packages as Lab0. It also include `re`, which stands for `regex`, a package often used for more sophisticated string operations. "
   ]
  },
  {
   "cell_type": "code",
   "execution_count": 106,
   "metadata": {
    "id": "Ve2IaKygZL2Z"
   },
   "outputs": [
    {
     "name": "stdout",
     "output_type": "stream",
     "text": [
      "All necessary packages have been imported.\n"
     ]
    }
   ],
   "source": [
    "# Run this cell\n",
    "from datascience import *\n",
    "%matplotlib inline\n",
    "import matplotlib.pyplot as plt\n",
    "import numpy as np\n",
    "import scipy.stats as sp\n",
    "import re\n",
    "plt.style.use('fivethirtyeight')\n",
    "from IPython.display import Image\n",
    "print(\"All necessary packages have been imported.\")\n"
   ]
  },
  {
   "cell_type": "markdown",
   "metadata": {
    "id": "bVCQIm_8o-v6"
   },
   "source": [
    "***\n",
    "## Introduction"
   ]
  },
  {
   "cell_type": "markdown",
   "metadata": {},
   "source": [
    "**The Central Dogma**\n",
    "\n",
    "The **central dogma of molecular biology** is a ***theory*** stating that genetic information flows in one direction, from DNA --> RNA --> protein. This is predominantly true, but there are some exceptions. The conversion of information from DNA to RNA is called **transcription** and the conversion of information from RNA to protein is called **translation**.\n",
    "\n",
    "<div>\n",
    "<img src=\"images/central_dogma.jpg\" width=\"300\"/>\n",
    "</div>\n",
    "\n",
    "*Image Source: [Khan Academy](https://www.khanacademy.org/science/ap-biology/gene-expression-and-regulation/translation/a/intro-to-gene-expression-central-dogma)*"
   ]
  },
  {
   "cell_type": "markdown",
   "metadata": {
    "id": "2VsDmDsgo-v6"
   },
   "source": [
    "**Transcription**\n",
    "\n",
    "In this lab, we will look at the DNA sequence of Green Fluorescept Protein (GFP). GFP is a naturally fluorescent protein that has become a prominent tool for biology researchers to visualize structures. The coding strand of GFP DNA (5' -> 3') can be sourced from [NCBI](https://www.ncbi.nlm.nih.gov/nuccore/L29345.1). \n",
    "\n",
    "A diagram of transcription is shown below:\n",
    "\n",
    "<div>\n",
    "<img src=\"images/transcription.jpg\" alt=\"Transcription\"\n",
    "     style=\"width:475px;height:225px;\">\n",
    "</div>\n",
    "\n",
    "*Source: [Khan Academy](https://www.khanacademy.org/science/ap-biology/gene-expression-and-regulation/transcription-and-rna-processing/a/overview-of-transcription)*\n",
    "\n",
    "During transcription, RNA polymerase travels in a 3' -> 5' direction on the template strand, synthesizing the new complementary mRNA in a 5' -> 3' direction. The template strand is the strand that is actually transcribed. The coding strand is the complementary DNA strand to the template strand. The resulting mRNA has a similar sequence to the coding strand, but with uracil instead of thymine. \n",
    "\n",
    "Conventionally, DNA sequences are written in a 5' -> 3' direction and the coding strand is used to report the DNA sequence of a gene. In this assignment, we will start with the **5' -> 3' template strand** of GFP and computationally transcribe it into mRNA. Later, we will computationally translate that mRNA into the amino acid sequence.\n",
    "\n",
    "**Translation**\n",
    "\n",
    "DNA translation is a fundamental process in molecular biology, where mRNA is used as a guide to generate an amino acid sequence. Each set of three nucleotides on the mRNA, called a **codon**, corresponds to a specific amino acid, the building block of proteins. Transfer RNA (tRNA) molecules bring the appropriate amino acids to the ribosome, matching their anticodon sequences to the mRNA codons. The ribosome facilitates the formation of peptide bonds between these amino acids, sequentially building a polypeptide chain. This chain folds into a functional protein, determined by the original DNA sequence.\n",
    "\n",
    "<font color = #d14d0f>****Before continuing, please complete the Gradescope Lab 1 concept check.****</font>"
   ]
  },
  {
   "cell_type": "markdown",
   "metadata": {
    "id": "Zm_RSqwLo-v9"
   },
   "source": [
    "***\n",
    "### 1. Template Strand of GFP\n",
    "\n",
    "To begin, we will assign the 5' -> 3' template strand of GFP to the variable `template_strand`\n"
   ]
  },
  {
   "cell_type": "code",
   "execution_count": 107,
   "metadata": {
    "id": "FzsgMj6Co-v9"
   },
   "outputs": [
    {
     "data": {
      "text/plain": [
       "'atacactccagtagcctatttaataagaaaatagcccctattaataacatcaataaattattcataaaattttaatgaatctataaatatataaataaagtctcagcctgaatttaaccaggaaccctgagaatttagtaattgttcggacactttagtgtcaattggaagtctggacatttatttgtatagttcatccatgccatgtgtaatcccagcagctgttacaaactcaagaaggatcatgtgatctctcttttcgttgggatctttggaaagggcagattgtgtggacaggtaatggttgtctggtaaaaggacagggccatcgccaattggagtattttgttgataatggtctgctaattgaacgcttccatctttaatgttgtgtctaattttgaagttaactttgattccattctttggtttgtctgccatgatgtatacattatgtgagttatagttgtattccattttgtgtccaagaatgtttccatcttctttaaaatcaataccttttaactcgattctattaacaagggtatcaccttcaaacttgacttcagcacgtgtcttgtagttcccgtcatctttgtaaaatatagttctttcctgtacataaccttcgggcatggcactcttgaaaaagtcatgctgtttcatatgatctgggtatcttgaaaagcattgaacaccataagagaaagtagtgacaagtgttggccatggaacaggtagcttcccagtagtgcaaataaatttaagggtaagttttccgtatgttgcatcaccttcaccctctccactgacagagaatttttgcccattaacatcgccatctaattcaacaagaattgggacaactccagtgaaaagttcttctcctttactcatctttgttatcttttattcgtgtgta'"
      ]
     },
     "execution_count": 107,
     "metadata": {},
     "output_type": "execute_result"
    }
   ],
   "source": [
    "#Just run this cell\n",
    "template_strand = \"atacactccagtagcctatttaataagaaaatagcccctattaataacatcaataaattattcataaaattttaatgaatctataaatatataaataaagtctcagcctgaatttaaccaggaaccctgagaatttagtaattgttcggacactttagtgtcaattggaagtctggacatttatttgtatagttcatccatgccatgtgtaatcccagcagctgttacaaactcaagaaggatcatgtgatctctcttttcgttgggatctttggaaagggcagattgtgtggacaggtaatggttgtctggtaaaaggacagggccatcgccaattggagtattttgttgataatggtctgctaattgaacgcttccatctttaatgttgtgtctaattttgaagttaactttgattccattctttggtttgtctgccatgatgtatacattatgtgagttatagttgtattccattttgtgtccaagaatgtttccatcttctttaaaatcaataccttttaactcgattctattaacaagggtatcaccttcaaacttgacttcagcacgtgtcttgtagttcccgtcatctttgtaaaatatagttctttcctgtacataaccttcgggcatggcactcttgaaaaagtcatgctgtttcatatgatctgggtatcttgaaaagcattgaacaccataagagaaagtagtgacaagtgttggccatggaacaggtagcttcccagtagtgcaaataaatttaagggtaagttttccgtatgttgcatcaccttcaccctctccactgacagagaatttttgcccattaacatcgccatctaattcaacaagaattgggacaactccagtgaaaagttcttctcctttactcatctttgttatcttttattcgtgtgta\"\n",
    "template_strand"
   ]
  },
  {
   "cell_type": "markdown",
   "metadata": {
    "id": "0otoHvRxo-v-"
   },
   "source": [
    "<font color = #d14d0f>**QUESTION 1**:</font> How many nucleotides long is the GFP template strand? (1 point)\n",
    ">*Hint:<br>- The built-in function `len(__)` could be useful.*\n",
    "<br> - Use the code cell below."
   ]
  },
  {
   "cell_type": "code",
   "execution_count": 108,
   "metadata": {
    "id": "JTjzHvT9o-v-"
   },
   "outputs": [
    {
     "name": "stdout",
     "output_type": "stream",
     "text": [
      "The GFP sequence is 922 nucleotides long.\n"
     ]
    }
   ],
   "source": [
    "# Question 1 -- YOUR CODE HERE\n",
    "gfp_length = len(template_strand)\n",
    "\n",
    "# gfp_length = ...\n",
    "\n",
    "print(f\"The GFP sequence is {gfp_length} nucleotides long.\")"
   ]
  },
  {
   "cell_type": "markdown",
   "metadata": {
    "id": "XmJhFgz4o-v_"
   },
   "source": [
    "<font color = #d14d0f>**QUESTION 2a**:</font> What is the percentage of adenosine (a) nucleotides in the GFP template strand? How about guanine? Thymine? Cytosine? Fill in the skeleton code below. (4 points)\n",
    ">*Hint:<br>- Think about iteration and how we can use it throught the specific variable we want.*"
   ]
  },
  {
   "cell_type": "code",
   "execution_count": 109,
   "metadata": {
    "id": "C8EOjiJDo-v_"
   },
   "outputs": [
    {
     "name": "stdout",
     "output_type": "stream",
     "text": [
      "The sequence is 28.850325379609544% A\n",
      "The sequence is 34.924078091106296% T\n",
      "The sequence is 17.787418655097614% G\n",
      "The sequence is 18.43817787418655% C\n"
     ]
    }
   ],
   "source": [
    "# Question 2a -- YOUR CODE HERE\n",
    "\n",
    "#Intialize variables that will represent the counts of each nucleotide.\n",
    "adenosine = 0\n",
    "thymine = 0\n",
    "guanine = 0\n",
    "cytosine = 0\n",
    "\n",
    "# adenosine = ... \n",
    "# thymine = ...\n",
    "# guanine = ...\n",
    "# cytosine = ...\n",
    "\n",
    "#Iterate through the template strand string using a for loop and conditional statements. What happens when it recognizes a nucleotide?\n",
    "for character in template_strand:\n",
    "  if character == 'a':\n",
    "    adenosine += 1\n",
    "  elif character == 't':\n",
    "    thymine += 1\n",
    "  elif character == 'g':\n",
    "    guanine += 1\n",
    "  elif character == 'c':\n",
    "    cytosine += 1\n",
    "\n",
    "# for character in coding_strand:\n",
    "#   if character == 'a':\n",
    "#     ...\n",
    "#   elif ...:\n",
    "#     ...\n",
    "#   elif ...:\n",
    "#     ...\n",
    "#   elif ...:\n",
    "#     ...\n",
    "\n",
    "#Let's get the length of the string to calculate the percent\n",
    "length = len(template_strand)\n",
    "\n",
    "# length = ...\n",
    "\n",
    "#Use the nucleotide counts and the total length of the sequence to calculate the nucleotide percentages (NOT fractions). \n",
    "percentage_adenosine = adenosine / length * 100\n",
    "percentage_thymine = thymine / length * 100\n",
    "percentage_guanine = guanine / length * 100\n",
    "percentage_cytosine = cytosine / length * 100\n",
    "\n",
    "# percentage_adenosine = ...\n",
    "# percentage_thymine = ...\n",
    "# percentage_guanine = ...\n",
    "# percentage_cytosine = ...\n",
    "\n",
    "print(f\"The sequence is {percentage_adenosine}% A\")\n",
    "print(f\"The sequence is {percentage_thymine}% T\")\n",
    "print(f\"The sequence is {percentage_guanine}% G\")\n",
    "print(f\"The sequence is {percentage_cytosine}% C\")"
   ]
  },
  {
   "cell_type": "markdown",
   "metadata": {},
   "source": [
    "Notice how the percentages you calculated in the previous equation show a large number of seemingly significant figures. Considering the length of our GFP sequence, this is not an appropriate number of significant figures to report the nucleotide frequencies.\n",
    "\n",
    "<font color = #d14d0f>**QUESTION 2b**:</font> Use `np.round(float, number_of_decimal_places)` to round each of the percentages calculated in Question 2a to an appropriate number of decimal places. (2 points)\n",
    "\n",
    "> - The new percentages should have the same number of significant figures as the length of the GFP sequence.<br>\n",
    "> - You must use the variables `percentage_adenosine`, `percentage_thymine`, `percentage_guanine`, and `percentage_cytosine`, instead of copy and pasting the float values directly."
   ]
  },
  {
   "cell_type": "code",
   "execution_count": 110,
   "metadata": {},
   "outputs": [
    {
     "name": "stdout",
     "output_type": "stream",
     "text": [
      "The sequence is 28.9% A\n",
      "The sequence is 34.9% T\n",
      "The sequence is 17.8% G\n",
      "The sequence is 18.4% C\n"
     ]
    }
   ],
   "source": [
    "percentage_adenosine_sigfig = np.round(percentage_adenosine, 1)\n",
    "percentage_thymine_sigfig = np.round(percentage_thymine, 1)\n",
    "percentage_guanine_sigfig = np.round(percentage_guanine, 1)\n",
    "percentage_cytosine_sigfig = np.round(percentage_cytosine, 1)\n",
    "\n",
    "# #Question 2b -- YOUR CODE HERE\n",
    "# percentage_adenosine_sigfig = ...\n",
    "# percentage_thymine_sigfig = ...\n",
    "# percentage_guanine_sigfig = ...\n",
    "# percentage_cytosine_sigfig = ...\n",
    "\n",
    "#DO NOT CHANGE THIS CODE\n",
    "print(f\"The sequence is {percentage_adenosine_sigfig}% A\")\n",
    "print(f\"The sequence is {percentage_thymine_sigfig}% T\")\n",
    "print(f\"The sequence is {percentage_guanine_sigfig}% G\")\n",
    "print(f\"The sequence is {percentage_cytosine_sigfig}% C\")"
   ]
  },
  {
   "cell_type": "markdown",
   "metadata": {},
   "source": [
    "The GC content of DNA is the proportion of guanine and cytosine bases as a fraction of all bases. It is an important statistic for several reasons. The GC content of DNA influences the stability of the DNA molecule, as G-C pairs form stronger bonds than A-T pairs, leading to greater stability in high GC regions. This impacts DNA's melting temperature, replication, and transcription, especially since high GC areas can form complex structures. Moreover, GC content varies across different organisms and affects gene regulation (in both DNA and RNA) and expression. In biotechnological applications, such as PCR primer design, GC content is vital for determining specificity and efficiency. It is also used to understand horizontal gene transfer.\n",
    "\n",
    "\n",
    "<font color = #d14d0f>**QUESTION 3**:</font> Build a function `gc_content` that calculates the GC content (as a percentage) of an input sequence. It should report the GC content to 1 decimal place. Then, call the function to calculate the GC content of the GFP template strand. (3 points)\n",
    ">*Hint:<br>- Feel free to use an approach similar to Question 2, or your own approach.*"
   ]
  },
  {
   "cell_type": "code",
   "execution_count": 111,
   "metadata": {},
   "outputs": [
    {
     "name": "stdout",
     "output_type": "stream",
     "text": [
      "The GC content of GFP is 36.2%.\n"
     ]
    }
   ],
   "source": [
    "# Question 3 -- YOUR CODE HERE\n",
    "\n",
    "def gc_content(sequence):\n",
    "    guanine = 0\n",
    "    cytosine = 0\n",
    "    sequence_length = len(sequence)\n",
    "    for character in sequence:\n",
    "        if character == \"g\":\n",
    "            guanine += 1\n",
    "        elif character == \"c\":\n",
    "            cytosine += 1\n",
    "    gc = guanine + cytosine\n",
    "    gc_content = gc / sequence_length * 100\n",
    "    return np.round(gc_content, 1)\n",
    "\n",
    "gc_content_gfp = gc_content(template_strand)\n",
    "\n",
    "# def gc_content(sequence):\n",
    "#     ...\n",
    "#     return ...\n",
    "\n",
    "# gc_content_gfp = gc_content(...)\n",
    "\n",
    "print(f\"The GC content of GFP is {gc_content_gfp}%.\")"
   ]
  },
  {
   "cell_type": "markdown",
   "metadata": {
    "id": "0nkCIayEo-wA"
   },
   "source": [
    "***\n",
    "## 2. Transcription"
   ]
  },
  {
   "cell_type": "markdown",
   "metadata": {
    "id": "HK104Ubko-wA"
   },
   "source": [
    "<font color = #d14d0f>**QUESTION 4a**:</font> Now, we would like to computationally transcribe the GFP template strand into mRNA. First, create a dictionary called `base_pairs` to pair the 4 DNA nucleotides with their complementary RNA nucleotides for transcription purposes. (2 points)\n",
    "> - Hint: Keep in mind that RNA does not have exactly the same nucleotide bases as DNA."
   ]
  },
  {
   "cell_type": "markdown",
   "metadata": {
    "id": "J_ozlubooZcF"
   },
   "source": [
    "<div>\n",
    "<img src=\"images/base_pairs.jpg\" alt=\"Base Pairs mRNA\"\n",
    "     style=\"width:475px;height:225px;\">\n",
    "</div>"
   ]
  },
  {
   "cell_type": "code",
   "execution_count": 112,
   "metadata": {
    "id": "yweIos9Io-wA"
   },
   "outputs": [],
   "source": [
    "# Question 4a -- YOUR CODE HERE\n",
    "base_pairs = {\n",
    "    \"g\":\"c\",\n",
    "    \"c\":\"g\",\n",
    "    \"a\":\"u\",\n",
    "    \"t\":\"a\"\n",
    "}\n",
    "\n",
    "# base_pairs = {\n",
    "#     \"g\": \"c\" ,\n",
    "#     \"c\": ... ,\n",
    "#     \"a\": ... ,\n",
    "#     \"t\": ... ,\n",
    "# }"
   ]
  },
  {
   "cell_type": "markdown",
   "metadata": {
    "id": "7ol0qhkco-wB"
   },
   "source": [
    "<font color = #d14d0f>**QUESTION 4b**:</font> Now, write a function `transcribe()` that takes a DNA template strand sequence (**5'-> 3'**) and outputs the resulting mRNA transcript (**5'->3'**) that is produced. (5 points)\n",
    ">Hint:\n",
    "<br>- **Strand direction is very important in this question.** What is the directional relationship between the template strand and mRNA transcript?\n",
    "<br>- There are a many possible approaches to this question. In one approach, you could try implementing a for loop and the dictionary method `.get()`. Feel free to use your own approach and as many lines of code as you need.\n",
    "<br>- You can check your work by looking at the printed result of `q4b_check`, which transcribes an input sequence of `'atcg'`. What do you expect it to output if your function works correctly?"
   ]
  },
  {
   "cell_type": "code",
   "execution_count": 113,
   "metadata": {
    "id": "AByvxUKWo-wB"
   },
   "outputs": [
    {
     "name": "stdout",
     "output_type": "stream",
     "text": [
      "cgau\n"
     ]
    }
   ],
   "source": [
    "# Question 4b -- YOUR CODE HERE\n",
    "def transcribe(seq):\n",
    "  transcript = \"\"\n",
    "  for element in seq:\n",
    "    new_letter = base_pairs.get(element) #gets the complementary base pair from dictionary\n",
    "    transcript = new_letter + transcript #adds new letter to beginning of transcript to reverse the sequence\n",
    "  return transcript\n",
    "\n",
    "# def transcribe(seq):\n",
    "#   ...\n",
    "#   return ...\n",
    "\n",
    "#DO NOT CHANGE THIS CODE - this is for you to check that your function is working the way you expect it to\n",
    "q4b_check = transcribe(\"atcg\")\n",
    "print(q4b_check)"
   ]
  },
  {
   "cell_type": "markdown",
   "metadata": {
    "id": "aTkP0_yjo-wB"
   },
   "source": [
    "<font color = #d14d0f>**QUESTION 5**:</font> Now let's put to use the `transcribe` function we just defined in Question 4. We want to obtain the mRNA sequence (5' -> 3') from the `template_strand` (5' -> 3') of the GFP gene. Save the final mRNA sequence as a string called `mrna`. (1 point)"
   ]
  },
  {
   "cell_type": "code",
   "execution_count": 114,
   "metadata": {
    "id": "GhIWR31Yo-wB"
   },
   "outputs": [
    {
     "data": {
      "text/plain": [
       "'uacacacgaauaaaagauaacaaagaugaguaaaggagaagaacuuuucacuggaguugucccaauucuuguugaauuagauggcgauguuaaugggcaaaaauucucugucaguggagagggugaaggugaugcaacauacggaaaacuuacccuuaaauuuauuugcacuacugggaagcuaccuguuccauggccaacacuugucacuacuuucucuuaugguguucaaugcuuuucaagauacccagaucauaugaaacagcaugacuuuuucaagagugccaugcccgaagguuauguacaggaaagaacuauauuuuacaaagaugacgggaacuacaagacacgugcugaagucaaguuugaaggugauacccuuguuaauagaaucgaguuaaaagguauugauuuuaaagaagauggaaacauucuuggacacaaaauggaauacaacuauaacucacauaauguauacaucauggcagacaaaccaaagaauggaaucaaaguuaacuucaaaauuagacacaacauuaaagauggaagcguucaauuagcagaccauuaucaacaaaauacuccaauuggcgauggcccuguccuuuuaccagacaaccauuaccuguccacacaaucugcccuuuccaaagaucccaacgaaaagagagaucacaugauccuucuugaguuuguaacagcugcugggauuacacauggcauggaugaacuauacaaauaaauguccagacuuccaauugacacuaaaguguccgaacaauuacuaaauucucaggguuccugguuaaauucaggcugagacuuuauuuauauauuuauagauucauuaaaauuuuaugaauaauuuauugauguuauuaauaggggcuauuuucuuauuaaauaggcuacuggaguguau'"
      ]
     },
     "execution_count": 114,
     "metadata": {},
     "output_type": "execute_result"
    }
   ],
   "source": [
    "# Question 5 -- YOUR CODE HERE\n",
    "mrna = transcribe(template_strand)\n",
    "mrna\n",
    "\n",
    "# mrna = ...\n",
    "# mrna"
   ]
  },
  {
   "cell_type": "markdown",
   "metadata": {
    "id": "4y-zWQlIo-wB"
   },
   "source": [
    "***\n",
    "## 3. Open Reading Frame\n",
    "\n",
    "An Open Reading Frame (ORF) is a continuous stretch of DNA that begins with a start codon and ends with a stop codon. This sequence of DNA has the potential to be translated into a protein. ORFs are significant in molecular biology and genetics because they represent regions of a gene that can encode a protein. The identification of ORFs is crucial in genomic studies and bioinformatics, as it helps in predicting the presence and structure of genes in a DNA sequence. The presence of an ORF in a DNA sequence does not guarantee that it will be expressed into a functional protein, but it is a strong indicator of a gene's coding potential. \n",
    "\n",
    "In the case of GFP, the first ORF is the one that codes for the GFP protein. DNA may have multiple ORFs.\n",
    "\n",
    "\n",
    "<font color = #d14d0f>**QUESTION 6a**:</font> For this question, we will take a step-by-step approach to find the primary open reading frame (ORF) of our transcript. First, fill in the code below to assign appropriate codons to `start_codon` and `stop_codons`. (2 points)\n",
    "\n",
    ">Hint:<br>- `start_codon` should be one codon, as a string. `stop_codons` should be a list of three codon strings. <br>- Make sure your codons are written in lowercase."
   ]
  },
  {
   "cell_type": "code",
   "execution_count": 115,
   "metadata": {},
   "outputs": [],
   "source": [
    "#Question 6a -- YOUR CODE HERE\n",
    "start_codon = \"aug\"\n",
    "stop_codons = [\"uaa\", \"uag\", \"uga\"]\n",
    "\n",
    "# start_codon = '...'\n",
    "# stop_codons = ['...', '...', '...']"
   ]
  },
  {
   "cell_type": "markdown",
   "metadata": {},
   "source": [
    "<font color = #d14d0f>**QUESTION 6b**:</font> Assign the index of the first RNA nucleotide in the first start codon in the mRNA transcript to `start_codon_index`. (2 points)\n",
    "\n",
    ">Hint:<br>- Consider using the `.find` string method. <br> - For example, if our mRNA transcript was \"ggaugcg\", `start_codon_index` should be 2."
   ]
  },
  {
   "cell_type": "code",
   "execution_count": 116,
   "metadata": {},
   "outputs": [
    {
     "data": {
      "text/plain": [
       "25"
      ]
     },
     "execution_count": 116,
     "metadata": {},
     "output_type": "execute_result"
    }
   ],
   "source": [
    "# Question 6b -- YOUR CODE HERE\n",
    "start_codon_index = mrna.find(start_codon)\n",
    "start_codon_index\n",
    "\n",
    "# start_codon_index = mrna.find(start_codon)\n",
    "# start_codon_index"
   ]
  },
  {
   "cell_type": "markdown",
   "metadata": {},
   "source": [
    "<font color = #d14d0f>**QUESTION 6c**:</font> Use Python string splicing to remove the 5' UTR of the mRNA transcript. The variable `mrna_start` should be a string that begins with the start codon and includes the remainder of the `mrna` transcript. (2 points)"
   ]
  },
  {
   "cell_type": "code",
   "execution_count": 117,
   "metadata": {},
   "outputs": [
    {
     "data": {
      "text/plain": [
       "'augaguaaaggagaagaacuuuucacuggaguugucccaauucuuguugaauuagauggcgauguuaaugggcaaaaauucucugucaguggagagggugaaggugaugcaacauacggaaaacuuacccuuaaauuuauuugcacuacugggaagcuaccuguuccauggccaacacuugucacuacuuucucuuaugguguucaaugcuuuucaagauacccagaucauaugaaacagcaugacuuuuucaagagugccaugcccgaagguuauguacaggaaagaacuauauuuuacaaagaugacgggaacuacaagacacgugcugaagucaaguuugaaggugauacccuuguuaauagaaucgaguuaaaagguauugauuuuaaagaagauggaaacauucuuggacacaaaauggaauacaacuauaacucacauaauguauacaucauggcagacaaaccaaagaauggaaucaaaguuaacuucaaaauuagacacaacauuaaagauggaagcguucaauuagcagaccauuaucaacaaaauacuccaauuggcgauggcccuguccuuuuaccagacaaccauuaccuguccacacaaucugcccuuuccaaagaucccaacgaaaagagagaucacaugauccuucuugaguuuguaacagcugcugggauuacacauggcauggaugaacuauacaaauaaauguccagacuuccaauugacacuaaaguguccgaacaauuacuaaauucucaggguuccugguuaaauucaggcugagacuuuauuuauauauuuauagauucauuaaaauuuuaugaauaauuuauugauguuauuaauaggggcuauuuucuuauuaaauaggcuacuggaguguau'"
      ]
     },
     "execution_count": 117,
     "metadata": {},
     "output_type": "execute_result"
    }
   ],
   "source": [
    "#Question 6c -- YOUR CODE HERE\n",
    "mrna_start = mrna[start_codon_index:]\n",
    "mrna_start\n",
    "\n",
    "# spliced_mrna = ...\n",
    "# spliced_mrna"
   ]
  },
  {
   "cell_type": "markdown",
   "metadata": {},
   "source": [
    "<font color = #d14d0f>**QUESTION 6d**:</font> In Question 6b and 6c, we identified the first start codon in the mRNA transcript and removed the 5' UTR of the transcript so that it begins at the start codon. However, to find the terminal end of the transcript, we cannot simply search for a stop codon and remove the 3' UTR of the transcript in an analagous way. Provide two reasons why repeating the same coding approach would not work. (2 points)"
   ]
  },
  {
   "cell_type": "markdown",
   "metadata": {},
   "source": [
    "**Reason 1:** DOUBLE-CLICK TO TYPE YOUR ANSWER HERE\n",
    "\n",
    "**Reason 2:** DOUBLE-CLICK TO TYPE YOUR ANSWER HERE\n",
    "\n",
    "<mark>SOLUTION</mark>\n",
    "\n",
    "**Reason 1:** Codons are in triplets, and the reading frame must be preserved.\n",
    "\n",
    "**Reason 2:** There are three different codons."
   ]
  },
  {
   "cell_type": "markdown",
   "metadata": {},
   "source": [
    "<font color = #d14d0f>**QUESTION 6e**:</font> Build a function called `codon_split` that converts a string into a list of triplet codons (as strings). Then, use the function to convert `mrna_start` into a list of codons, and assign it to the variable `codons_orf`. (5 points)\n",
    "\n",
    "> - Any leftover sequence that cannot form a complete codon should be excluded.\n",
    "> - For example, `codon_split(\"acgcgagca\")` should output `[\"acg\", \"cga\", \"gca\"]` and `codon_split(\"acgcgagc\")` should output `[\"acg\", \"cga\"]`.\n",
    "> - There are many different ways to approach this problem. You do not have to follow the skeleton code if you prefer to use another method to achieve the same result."
   ]
  },
  {
   "cell_type": "code",
   "execution_count": 118,
   "metadata": {},
   "outputs": [
    {
     "name": "stdout",
     "output_type": "stream",
     "text": [
      "['acg', 'cga', 'gca']\n",
      "['acg', 'cga']\n",
      "uac\n"
     ]
    }
   ],
   "source": [
    "# Question 6d -- YOUR CODE HERE\n",
    "\n",
    "def codon_split(sequence):\n",
    "    codons = []\n",
    "    while len(sequence) >= 3:\n",
    "        codon = sequence[:3]\n",
    "        codons.append(codon)\n",
    "        sequence = sequence[3:]\n",
    "    return codons\n",
    "\n",
    "codons_orf = codon_split(mrna_start)\n",
    "\n",
    "# def codon_split(sequence):\n",
    "#     codons = []\n",
    "#     while len(...) >= ...:\n",
    "#         codon = sequence[...]\n",
    "#         codons.append(...)\n",
    "#         sequence = sequence[...]\n",
    "#     return ...\n",
    "\n",
    "# codons_orf = codon_split(...)\n",
    "\n",
    "#DO NOT CHANGE THIS CODE\n",
    "print(codon_split(\"acgcgagca\"))\n",
    "print(codon_split(\"acgcgagc\"))\n",
    "try:\n",
    "    print(codons_orf[len(codons_orf)//3]) #GRADER TEST\n",
    "except:\n",
    "    print(\"N/A\")"
   ]
  },
  {
   "cell_type": "markdown",
   "metadata": {},
   "source": [
    "<font color = #d14d0f>**QUESTION 6f**:</font> Assign the Open Reading Frame of the mrna as a string to `mrna_orf`. The approach below involves adding string codons to `mrna_frame` until a stop codon is read. The final transcript should include both the start and stop codon. You do not have to follow the skeleton code if you have an alternative approach. (4 points)"
   ]
  },
  {
   "cell_type": "code",
   "execution_count": 119,
   "metadata": {
    "id": "D063ZeQro-wC"
   },
   "outputs": [
    {
     "name": "stdout",
     "output_type": "stream",
     "text": [
      "augaguaaaggagaagaacuuuucacuggaguugucccaauucuuguugaauuagauggcgauguuaaugggcaaaaauucucugucaguggagagggugaaggugaugcaacauacggaaaacuuacccuuaaauuuauuugcacuacugggaagcuaccuguuccauggccaacacuugucacuacuuucucuuaugguguucaaugcuuuucaagauacccagaucauaugaaacagcaugacuuuuucaagagugccaugcccgaagguuauguacaggaaagaacuauauuuuacaaagaugacgggaacuacaagacacgugcugaagucaaguuugaaggugauacccuuguuaauagaaucgaguuaaaagguauugauuuuaaagaagauggaaacauucuuggacacaaaauggaauacaacuauaacucacauaauguauacaucauggcagacaaaccaaagaauggaaucaaaguuaacuucaaaauuagacacaacauuaaagauggaagcguucaauuagcagaccauuaucaacaaaauacuccaauuggcgauggcccuguccuuuuaccagacaaccauuaccuguccacacaaucugcccuuuccaaagaucccaacgaaaagagagaucacaugauccuucuugaguuuguaacagcugcugggauuacacauggcauggaugaacuauacaaauaa\n",
      "aug uaa\n",
      "cacua\n"
     ]
    }
   ],
   "source": [
    "# Question 6e -- YOUR CODE HERE\n",
    "mrna_frame = \"\"\n",
    "\n",
    "for codon in codons_orf:\n",
    "    mrna_frame += codon\n",
    "    if codon in stop_codons:\n",
    "        break       #break causes the code to exit the for loop\n",
    "\n",
    "# mrna_frame = \"\"\n",
    "\n",
    "# for ... in codons_orf:\n",
    "#     mrna_frame += ...\n",
    "#     if ... in ...:\n",
    "#         break     #break causes the code to exit the for loop\n",
    "\n",
    "#DO NOT CHANGE THIS CODE \n",
    "print(mrna_frame)\n",
    "print(mrna_frame[:3], mrna_frame[-3:])\n",
    "print(mrna_frame[len(mrna_frame)//5: len(mrna_frame)//5 + 5]) #GRADER TEST"
   ]
  },
  {
   "cell_type": "markdown",
   "metadata": {},
   "source": [
    "<font color = #d14d0f>**QUESTION 6g**:</font> Finally, combine your code from Question 6b - 6g to create the function `orf(seq)`. It should take in a 5' -> 3' mRNA sequence and then return the corresponding Open Reading Frame (including the start and stop codons) of the sequence in lowercase letters. In addition, it should be able to accept a sequence of uppercase or lowercase nucleotides. (4 points)\n",
    "\n",
    "> Hint: <br>- You can use `string.upper()` to convert every character in a string to upper case, or `string.lower()` to convert every character in a string to lowercase."
   ]
  },
  {
   "cell_type": "code",
   "execution_count": 120,
   "metadata": {},
   "outputs": [
    {
     "name": "stdout",
     "output_type": "stream",
     "text": [
      "Do orf(mrna) and mrna_frame output the same ORF?  True\n",
      "Does orf accept both uppercase and lowercase?  True\n",
      "Does orf return a lowercase string? True\n"
     ]
    }
   ],
   "source": [
    "def orf(seq):\n",
    "    seq = seq.lower() #converts string to lowercase\n",
    "    start_codon_index = seq.find(start_codon) #Q6b\n",
    "    mrna_start = seq[start_codon_index:] #Q6c\n",
    "    codons = codon_split(mrna_start) #Q6d\n",
    "    #Q6f\n",
    "    mrna_frame = \"\"\n",
    "    for codon in codons:\n",
    "        mrna_frame += codon\n",
    "        if codon in stop_codons:\n",
    "            break\n",
    "    return mrna_frame\n",
    "\n",
    "# Question 6g - YOUR CODE HERE\n",
    "# def orf(seq):\n",
    "#     ...\n",
    "#     return ...\n",
    "\n",
    "\n",
    "#DO NOT CHANGE THIS CODE \n",
    "orf_mrna = orf(mrna)\n",
    "print(\"Do orf(mrna) and mrna_frame output the same ORF? \", orf_mrna == mrna_frame)\n",
    "print(\"Does orf accept both uppercase and lowercase? \", orf(mrna.upper()) == orf(mrna.lower()))\n",
    "print(\"Does orf return a lowercase string?\", orf_mrna.islower())"
   ]
  },
  {
   "cell_type": "markdown",
   "metadata": {
    "id": "H9loU7vVo-wC"
   },
   "source": [
    "***\n",
    "## 4. Translation"
   ]
  },
  {
   "cell_type": "markdown",
   "metadata": {
    "id": "8dd2STAGo-wC"
   },
   "source": [
    "**Finally, for the last part of the central dogma, we will translate our mRNA into an amino acid sequence.**\n",
    "\n",
    "The standard \"universal\" codon translation table is in the dictionary below. The keys of this dictionary are the 3-nucleotides long codons and corresponding values are the one-letter symbols of the amino acids they code for. Notice that the dictionary is in uppercase.\n",
    "\n",
    "Be sure to **run the cell below** so the `codon_table` variable gets defined."
   ]
  },
  {
   "cell_type": "code",
   "execution_count": 121,
   "metadata": {
    "id": "49YZiw7ro-wC"
   },
   "outputs": [],
   "source": [
    "codon_table = {\n",
    "    'AUA':'I', 'AUC':'I', 'AUU':'I', 'AUG':'M',\n",
    "    'ACA':'T', 'ACC':'T', 'ACG':'T', 'ACU':'T',\n",
    "    'AAC':'N', 'AAU':'N', 'AAA':'K', 'AAG':'K',\n",
    "    'AGC':'S', 'AGU':'S', 'AGA':'R', 'AGG':'R',\n",
    "    'CUA':'L', 'CUC':'L', 'CUG':'L', 'CUU':'L',\n",
    "    'CCA':'P', 'CCC':'P', 'CCG':'P', 'CCU':'P',\n",
    "    'CAC':'H', 'CAU':'H', 'CAA':'Q', 'CAG':'Q',\n",
    "    'CGA':'R', 'CGC':'R', 'CGG':'R', 'CGU':'R',\n",
    "    'GUA':'V', 'GUC':'V', 'GUG':'V', 'GUU':'V',\n",
    "    'GCA':'A', 'GCC':'A', 'GCG':'A', 'GCU':'A',\n",
    "    'GAC':'D', 'GAU':'D', 'GAA':'E', 'GAG':'E',\n",
    "    'GGA':'G', 'GGC':'G', 'GGG':'G', 'GGU':'G',\n",
    "    'UCA':'S', 'UCC':'S', 'UCG':'S', 'UCU':'S',\n",
    "    'UUC':'F', 'UUU':'F', 'UUA':'L', 'UUG':'L',\n",
    "    'UAC':'Y', 'UAU':'Y', 'UAA':'', 'UAG':'',\n",
    "    'UGC':'C', 'UGU':'C', 'UGA':'', 'UGG':'W'}"
   ]
  },
  {
   "cell_type": "markdown",
   "metadata": {
    "id": "Htf7d7P3o-wD"
   },
   "source": [
    "\n",
    "<font color = #d14d0f>**QUESTION 7**:</font> Use the previous `codon_split` function to convert the mRNA open reading frame into a list of **capitalized** codon strings. (2 points)\n",
    ">*Hint:<br>- You can use `string.upper()` to convert each character of the string to upper case.*\n"
   ]
  },
  {
   "cell_type": "code",
   "execution_count": 122,
   "metadata": {
    "id": "4z5lfNOVo-wD"
   },
   "outputs": [
    {
     "name": "stdout",
     "output_type": "stream",
     "text": [
      "['AUG', 'AGU', 'AAA', 'GGA', 'GAA', 'GAA', 'CUU', 'UUC', 'ACU', 'GGA', 'GUU', 'GUC', 'CCA', 'AUU', 'CUU', 'GUU', 'GAA', 'UUA', 'GAU', 'GGC', 'GAU', 'GUU', 'AAU', 'GGG', 'CAA', 'AAA', 'UUC', 'UCU', 'GUC', 'AGU', 'GGA', 'GAG', 'GGU', 'GAA', 'GGU', 'GAU', 'GCA', 'ACA', 'UAC', 'GGA', 'AAA', 'CUU', 'ACC', 'CUU', 'AAA', 'UUU', 'AUU', 'UGC', 'ACU', 'ACU', 'GGG', 'AAG', 'CUA', 'CCU', 'GUU', 'CCA', 'UGG', 'CCA', 'ACA', 'CUU', 'GUC', 'ACU', 'ACU', 'UUC', 'UCU', 'UAU', 'GGU', 'GUU', 'CAA', 'UGC', 'UUU', 'UCA', 'AGA', 'UAC', 'CCA', 'GAU', 'CAU', 'AUG', 'AAA', 'CAG', 'CAU', 'GAC', 'UUU', 'UUC', 'AAG', 'AGU', 'GCC', 'AUG', 'CCC', 'GAA', 'GGU', 'UAU', 'GUA', 'CAG', 'GAA', 'AGA', 'ACU', 'AUA', 'UUU', 'UAC', 'AAA', 'GAU', 'GAC', 'GGG', 'AAC', 'UAC', 'AAG', 'ACA', 'CGU', 'GCU', 'GAA', 'GUC', 'AAG', 'UUU', 'GAA', 'GGU', 'GAU', 'ACC', 'CUU', 'GUU', 'AAU', 'AGA', 'AUC', 'GAG', 'UUA', 'AAA', 'GGU', 'AUU', 'GAU', 'UUU', 'AAA', 'GAA', 'GAU', 'GGA', 'AAC', 'AUU', 'CUU', 'GGA', 'CAC', 'AAA', 'AUG', 'GAA', 'UAC', 'AAC', 'UAU', 'AAC', 'UCA', 'CAU', 'AAU', 'GUA', 'UAC', 'AUC', 'AUG', 'GCA', 'GAC', 'AAA', 'CCA', 'AAG', 'AAU', 'GGA', 'AUC', 'AAA', 'GUU', 'AAC', 'UUC', 'AAA', 'AUU', 'AGA', 'CAC', 'AAC', 'AUU', 'AAA', 'GAU', 'GGA', 'AGC', 'GUU', 'CAA', 'UUA', 'GCA', 'GAC', 'CAU', 'UAU', 'CAA', 'CAA', 'AAU', 'ACU', 'CCA', 'AUU', 'GGC', 'GAU', 'GGC', 'CCU', 'GUC', 'CUU', 'UUA', 'CCA', 'GAC', 'AAC', 'CAU', 'UAC', 'CUG', 'UCC', 'ACA', 'CAA', 'UCU', 'GCC', 'CUU', 'UCC', 'AAA', 'GAU', 'CCC', 'AAC', 'GAA', 'AAG', 'AGA', 'GAU', 'CAC', 'AUG', 'AUC', 'CUU', 'CUU', 'GAG', 'UUU', 'GUA', 'ACA', 'GCU', 'GCU', 'GGG', 'AUU', 'ACA', 'CAU', 'GGC', 'AUG', 'GAU', 'GAA', 'CUA', 'UAC', 'AAA', 'UAA']\n"
     ]
    }
   ],
   "source": [
    "# Question 7 -- YOUR CODE HERE\n",
    "codons = codon_split(mrna_frame.upper())\n",
    "print(codons)\n",
    "\n",
    "# codons = codon_split(...)\n",
    "# print(codons)"
   ]
  },
  {
   "cell_type": "markdown",
   "metadata": {
    "id": "uoJTy94Ro-wD"
   },
   "source": [
    "<font color = #d14d0f>**QUESTION 8a**:</font> Using the `codon_table` dictionary defined for you above Question 7, write a function `translate()` that takes in a (5'->3') string, `mrna`, and a codon `table` as inputs, and outputs the corresponding sequence of amino acids after translation in string form. There should not be any amino acid symbol for the stop codon. (5 points)"
   ]
  },
  {
   "cell_type": "code",
   "execution_count": 123,
   "metadata": {
    "id": "HDWERWl4o-wD"
   },
   "outputs": [],
   "source": [
    "# Question 8 -- YOUR CODE HERE\n",
    "\n",
    "def translate(mrna, table):\n",
    "    codons = codon_split(mrna.upper())\n",
    "    aa_sequence = \"\"\n",
    "    for codon in codons:\n",
    "        aa = table.get(codon)\n",
    "        aa_sequence += aa\n",
    "    return aa_sequence\n",
    "\n",
    "# def translate(mrna, table):\n",
    "#   ...\n",
    "#   return ..."
   ]
  },
  {
   "cell_type": "code",
   "execution_count": 124,
   "metadata": {},
   "outputs": [
    {
     "name": "stdout",
     "output_type": "stream",
     "text": [
      "Q8a Test Case: Passed!\n"
     ]
    }
   ],
   "source": [
    "#DO NOT CHANGE THIS CELL, RUN THIS CELL TO CHECK YOUR CODE\n",
    "def q8a_check():\n",
    "    try:\n",
    "        if translate(\"augggaucggugacgggguaa\", codon_table) == \"MGSVTG\" and translate(\"ACGGAGUCGACG\", codon_table) == \"TEST\":\n",
    "            print(\"Q8a Test Case: Passed!\")\n",
    "        else:\n",
    "            print(\"Q8b Test Case 1: Failed. Your function is not translating correctly.\")\n",
    "    except:\n",
    "        print(\"Q8b Test Case 1: Failed. Your function is not translating correctly.\")\n",
    "q8a_check()"
   ]
  },
  {
   "cell_type": "markdown",
   "metadata": {},
   "source": [
    "<font color = #d14d0f>**QUESTION 8b**:</font> It is also good coding practice to include input validation for functions. Create a function `valid_mrna_check(input)`, which will output `True` if the input is a translatable mRNA strand, and `False` if it is not. Then, incorporate `valid_mrna_check` function into `translate_updated`, which will translate the mRNA if it is valid. If the mRNA is invalid, it will output `\"Error: Not Valid mRNA.\"` (6 points)\n",
    "\n",
    "> Hint:\n",
    "> - How long should a translatable mRNA sequence be? \n",
    "> - What characters are in an mRNA sequence?\n",
    "> - What should a translatable mRNA sequence start with and end with?"
   ]
  },
  {
   "cell_type": "code",
   "execution_count": 125,
   "metadata": {},
   "outputs": [],
   "source": [
    "def valid_mrna_check(input):\n",
    "    if type(input) != str: #make sure input is a string\n",
    "        return False\n",
    "    if not bool(re.match(\"^[AUCG]+$\", input.upper())): #check input only contains A, U, C and G\n",
    "        return False\n",
    "    if len(input) % 3 != 0:      #input sequence should be divisible by 3 \n",
    "        return False\n",
    "    codons = codon_split(input.lower())\n",
    "    if codons[0] != \"aug\":  #input sequence should start with start codon\n",
    "        return False\n",
    "    if not codons[-1] in(stop_codons):  #input sequence should end with a stop codon\n",
    "        return False\n",
    "    return True\n",
    "\n",
    "def translate_updated(mrna, table):\n",
    "    if not valid_mrna_check(mrna): #checks if valid\n",
    "        return \"Error: Not Valid mRNA\"\n",
    "    else:\n",
    "        return translate(mrna, table)\n",
    "\n",
    "# def valid_mrna_check(string):\n",
    "#     ...\n",
    "\n",
    "# def translate_updated(mrna, table):\n",
    "#     if not valid_mrna_check(mrna):\n",
    "#         return \"Error: Not Valid mRNA\"\n",
    "#     else:\n",
    "#         return ..."
   ]
  },
  {
   "cell_type": "code",
   "execution_count": 126,
   "metadata": {},
   "outputs": [
    {
     "name": "stdout",
     "output_type": "stream",
     "text": [
      "Q8b Test Case 1: Passed.\n",
      "Q8b Test Case 2: Passed.\n",
      "Q8b Test Case 3: Passed.\n",
      "Q8b Test Case 4: Passed.\n"
     ]
    }
   ],
   "source": [
    "#DO NOT CHANGE THIS CELL, RUN THIS CELL TO CHECK YOUR CODE\n",
    "def q8b_check():\n",
    "    testcase1 = \"Q8b Test Case 1: Failed. What characters are in an mRNA sequence?\"\n",
    "    testcase2 = \"Q8b Test Case 2: Failed. What should a translatable mRNA sequence start with and end with?\"\n",
    "    testcase3 = \"Q8b Test Case 3: Failed. How long should a translatable mRNA sequence be?\"\n",
    "    testcase4 = \"Q8b Test Case 4: Failed. Your function/s are not recognizing valid mRNA sequences or translating them correctly.\"\n",
    "    try:\n",
    "        print(\"Q8b Test Case 1: Passed.\") if not any([valid_mrna_check(\"applebottomjeans\"), valid_mrna_check(12345), valid_mrna_check(\"#*!2-/kasjd\"), valid_mrna_check(\"atcggagttcag\")]) else print(testcase1)\n",
    "    except:\n",
    "        print(testcase1)\n",
    "    try:\n",
    "        print(\"Q8b Test Case 2: Passed.\") if not any([valid_mrna_check(\"aggacguag\"), valid_mrna_check(\"auggac\")]) else print(testcase2)\n",
    "    except:\n",
    "        print(testcase2)\n",
    "    try:\n",
    "        print(\"Q8b Test Case 3: Passed.\") if not any([valid_mrna_check(\"augcuag\"), valid_mrna_check(\"auggacaguggaug\")]) else print(testcase3)\n",
    "    except:\n",
    "        print(testcase3)        \n",
    "    try:\n",
    "        print(\"Q8b Test Case 4: Passed.\") if all([valid_mrna_check(\"auggcaggaguauag\"), valid_mrna_check(\"augggaucggugacgggguaa\"), translate_updated(\"augggaucggugacgggguaa\", codon_table) == \"MGSVTG\"]) else print(testcase4)\n",
    "    except:\n",
    "        print(testcase4)\n",
    "\n",
    "q8b_check()"
   ]
  },
  {
   "cell_type": "markdown",
   "metadata": {
    "id": "nQhGRKFho-wD"
   },
   "source": [
    "\n",
    "<font color = #d14d0f>**QUESTION 9**:</font> Determine the amino acid sequence from the GFP mRNA. Save the final amino acid sequence as a string to the variable `aa_seq`. (1 point)"
   ]
  },
  {
   "cell_type": "code",
   "execution_count": 127,
   "metadata": {
    "id": "0l1q1wRLo-wD"
   },
   "outputs": [
    {
     "data": {
      "text/plain": [
       "'MSKGEELFTGVVPILVELDGDVNGQKFSVSGEGEGDATYGKLTLKFICTTGKLPVPWPTLVTTFSYGVQCFSRYPDHMKQHDFFKSAMPEGYVQERTIFYKDDGNYKTRAEVKFEGDTLVNRIELKGIDFKEDGNILGHKMEYNYNSHNVYIMADKPKNGIKVNFKIRHNIKDGSVQLADHYQQNTPIGDGPVLLPDNHYLSTQSALSKDPNEKRDHMILLEFVTAAGITHGMDELYK'"
      ]
     },
     "execution_count": 127,
     "metadata": {},
     "output_type": "execute_result"
    }
   ],
   "source": [
    "# Question 9 -- YOUR CODE HERE\n",
    "aa_seq = translate_updated(mrna_frame, codon_table)\n",
    "aa_seq\n",
    "\n",
    "# aa_seq = ...\n",
    "# aa_seq"
   ]
  },
  {
   "cell_type": "markdown",
   "metadata": {},
   "source": [
    "<font color = #d14d0f>**QUESTION 10**:</font> Finally, combine the transcription and translation code you have written throughout this assignment to build the function `translate_from_template(template_sequence)`. It should accept any 5' -> 3' DNA template strand, transcribe it into mRNA, determine the open reading frame, and then translate the mRNA into an amino acid sequence. (3 points)"
   ]
  },
  {
   "cell_type": "code",
   "execution_count": 128,
   "metadata": {},
   "outputs": [
    {
     "name": "stdout",
     "output_type": "stream",
     "text": [
      "Do translate_from_template(template_strand) and aa_seq output the same sequence?  True\n",
      "TESTYES\n"
     ]
    }
   ],
   "source": [
    "# Question 9 -- YOUR CODE HERE\n",
    "def translate_from_template(template_sequence):\n",
    "    mrna_seq = transcribe(template_sequence)\n",
    "    mrna_orf = orf(mrna_seq)\n",
    "    aa_seq = translate_updated(mrna_orf, codon_table)\n",
    "    return aa_seq\n",
    "\n",
    "# def translate_from_template(template_sequence):\n",
    "#     mrna_seq = ...\n",
    "#     mrna_orf = ...\n",
    "#     aa_seq = ...\n",
    "#     return ...\n",
    "\n",
    "#DO NOT CHANGE THIS CODE \n",
    "print(\"Do translate_from_template(template_strand) and aa_seq output the same sequence? \", translate_from_template(template_strand) == aa_seq)\n",
    "print(translate_from_template(\"ttacgattcatacgtcgactccgtcat\")[1:])"
   ]
  },
  {
   "cell_type": "markdown",
   "metadata": {
    "id": "smP_Kujxo-wE"
   },
   "source": [
    "***\n",
    "## 4. Extra Credit Mini-Projects"
   ]
  },
  {
   "cell_type": "markdown",
   "metadata": {},
   "source": [
    "Most assignments in this course will include optional extra credit questions. These questions are designed as starting points for students to explore more free-form mini projects. Therefore, there is no skeleton code and minimal guidance for these questions. Students are welcome to go beyond the scope of the question or adapt the question as necessary to answer their own scientific questions of interest. You are welcome to create as many coding cells as you would like for these mini-projects. In order to get extra credit, students should make a reasonable attempt (as judged by the grader) on at least one question and write a brief report.\n",
    "\n",
    "Write a summary on your methodology and your findings, highlighting key results and any interesting observations. The length of the report does not matter, as long as it answers all of the following questions:\n",
    "- What was your scientific goal with this project?\n",
    "- What methods did you use and why?\n",
    "- What were the key results you found for each method you implemented?\n",
    "- Were there any limitations in your methods?\n",
    "- What additional observations or comments can you make on your findings? What is the greater biological relevance or implication?\n",
    "- Are there any additional questions you would want to explore?"
   ]
  },
  {
   "cell_type": "markdown",
   "metadata": {
    "id": "taJaEFLeo-wE"
   },
   "source": [
    "\n",
    "<font color = #d14d0f>**EC Mini-Project A: Alternative Codon Tables**</font>\n",
    "\n",
    "The codon translation table is not actually universal. The genetic code has evolved over time, which led to differences in the codon conversion tables for different species. So, we need to pay attention to where our genetic code comes from and pick the correct codon table. For example, in ciliated protozoa, the universal stop codons UAA and UAG code for glutamine.\n",
    "\n",
    "Let's imagine that we want to express the GFP gene in *S. cerevisiae* mitochondria. The standard codon table and the mitchondrial yeast codon table are different. Use NCBI resources to find the mitochondial yeast codon table and translate the sequence. Describe (not necessarily implement) ways you could automate the process of retrieving species codon tables and translating using that table, and how you could use computational methods to quantitatively compare your result with the one you previously derived. As an advanced project, implement a function that translates a sequence based on an inputted species."
   ]
  },
  {
   "cell_type": "markdown",
   "metadata": {
    "id": "2RDlNtueynTa"
   },
   "source": [
    "<font color = #d14d0f>**EC Mini-Project B: Codon Patterns**</font>\n",
    "\n",
    "It is often useful to compare codon usage patterns in transcribed mRNA sequences. Visualize the frequency distribution of codons in the transcribed GFP mRNA. Compare the frequency distributions results with at least one other relevant mRNA sequence, and justify your choice. Interpret your findings in a biological context, considering any implications about evolutionary history or functional characteristics."
   ]
  },
  {
   "cell_type": "markdown",
   "metadata": {},
   "source": [
    "<font color = #d14d0f>**EC Mini-Project C: Reverse Translation**</font>\n",
    "\n",
    "Some amino acids are encoded by multiple different codons. Implement a reverse translation function that takes a protein sequence and returns the number of DNA sequences that could code for it. How many different DNA transcripts could be generated from the GFP amino acid sequence? Apply your function on other protein sequences too, and explore the relationship between the number of possible DNA reverse-translations and another quantitative variable of your choice. Consider the biological implications for any relationships you might find."
   ]
  },
  {
   "cell_type": "code",
   "execution_count": 129,
   "metadata": {},
   "outputs": [],
   "source": [
    "#YOUR CODE HERE. ADD ADDITIONAL CODE CELLS AS NEEDED."
   ]
  },
  {
   "cell_type": "markdown",
   "metadata": {},
   "source": [
    "**EXTRA CREDIT REPORT: [insert project choice here]** <br>\n",
    "\n",
    "*DOUBLE-CLICK TO EDIT THIS CELL AND TYPE YOUR REPORT*"
   ]
  },
  {
   "cell_type": "markdown",
   "metadata": {
    "id": "T9AbleZ5fsQV"
   },
   "source": [
    "***\n",
    "### Congratulations! You have finished Lab 1!\n",
    "***"
   ]
  }
 ],
 "metadata": {
  "colab": {
   "provenance": []
  },
  "kernelspec": {
   "display_name": "Python 3 (ipykernel)",
   "language": "python",
   "name": "python3"
  },
  "language_info": {
   "codemirror_mode": {
    "name": "ipython",
    "version": 3
   },
   "file_extension": ".py",
   "mimetype": "text/x-python",
   "name": "python",
   "nbconvert_exporter": "python",
   "pygments_lexer": "ipython3",
   "version": "3.12.1"
  }
 },
 "nbformat": 4,
 "nbformat_minor": 4
}
